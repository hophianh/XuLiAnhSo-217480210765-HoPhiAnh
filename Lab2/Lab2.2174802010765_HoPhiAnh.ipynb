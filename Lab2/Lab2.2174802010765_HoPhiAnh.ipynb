{
 "cells": [
  {
   "cell_type": "code",
   "execution_count": 2,
   "id": "308e693e",
   "metadata": {},
   "outputs": [],
   "source": [
    "import cv2\n",
    "import numpy as np\n",
    "import os"
   ]
  },
  {
   "cell_type": "markdown",
   "id": "a373d0c9",
   "metadata": {},
   "source": [
    "1 - Nạp ảnh và lưu thành 3 ảnh với 3 màu khác nhau"
   ]
  },
  {
   "cell_type": "code",
   "execution_count": 2,
   "id": "7536c308",
   "metadata": {},
   "outputs": [
    {
     "data": {
      "text/plain": [
       "True"
      ]
     },
     "execution_count": 2,
     "metadata": {},
     "output_type": "execute_result"
    }
   ],
   "source": [
    "# Nạp ảnh\n",
    "image = cv2.imread('bird.png')\n",
    "\n",
    "# Lưu ảnh màu đỏ, xanh lá và xanh dương\n",
    "b, g, r = cv2.split(image)\n",
    "cv2.imwrite('red_image.png', cv2.merge([b * 0, g * 0, r]))\n",
    "cv2.imwrite('green_image.png', cv2.merge([b * 0, g, r * 0]))\n",
    "cv2.imwrite('blue_image.png', cv2.merge([b, g * 0, r * 0]))\n"
   ]
  },
  {
   "cell_type": "markdown",
   "id": "451e121b",
   "metadata": {},
   "source": [
    "2 - Hoán đối giá trị các màu"
   ]
  },
  {
   "cell_type": "markdown",
   "id": "96d054bf",
   "metadata": {},
   "source": []
  },
  {
   "cell_type": "code",
   "execution_count": 3,
   "id": "3b6950b5",
   "metadata": {},
   "outputs": [
    {
     "data": {
      "text/plain": [
       "True"
      ]
     },
     "execution_count": 3,
     "metadata": {},
     "output_type": "execute_result"
    }
   ],
   "source": [
    "swapped_image = cv2.cvtColor(image, cv2.COLOR_BGR2RGB)\n",
    "cv2.imwrite('swapped_image.png', swapped_image)"
   ]
  },
  {
   "cell_type": "markdown",
   "id": "24372cb1",
   "metadata": {},
   "source": [
    "3 - Chuyển thành hệ màu HSV và lưu 3 ảnh với 3 màu khác nhau"
   ]
  },
  {
   "cell_type": "code",
   "execution_count": 4,
   "id": "7edaa7b3",
   "metadata": {},
   "outputs": [
    {
     "data": {
      "text/plain": [
       "True"
      ]
     },
     "execution_count": 4,
     "metadata": {},
     "output_type": "execute_result"
    }
   ],
   "source": [
    "hsv_image = cv2.cvtColor(image, cv2.COLOR_BGR2HSV)\n",
    "h, s, v = cv2.split(hsv_image)\n",
    "cv2.imwrite('h_channel.png', h)\n",
    "cv2.imwrite('s_channel.png', s)\n",
    "cv2.imwrite('v_channel.png', v)"
   ]
  },
  {
   "cell_type": "markdown",
   "id": "5d8b7aa2",
   "metadata": {},
   "source": [
    "4 - Chuyển sang hệ màu HSV và thay đổi các giá trị kênh"
   ]
  },
  {
   "cell_type": "code",
   "execution_count": 5,
   "id": "898b7f32",
   "metadata": {},
   "outputs": [
    {
     "data": {
      "text/plain": [
       "True"
      ]
     },
     "execution_count": 5,
     "metadata": {},
     "output_type": "execute_result"
    }
   ],
   "source": [
    "h_new = (h / 3).astype(np.uint8)\n",
    "v_new = (v * 0.75).astype(np.uint8)\n",
    "new_hsv_image = cv2.merge([h_new, s, v_new])\n",
    "final_image = cv2.cvtColor(new_hsv_image, cv2.COLOR_HSV2BGR)\n",
    "cv2.imwrite('modified_image.png', final_image)\n"
   ]
  },
  {
   "cell_type": "markdown",
   "id": "8085a0d5",
   "metadata": {},
   "source": [
    "5 - Sử dụng mean filter cho các hình trong thư mục Exercise"
   ]
  },
  {
   "cell_type": "code",
   "execution_count": 10,
   "id": "9b53b538",
   "metadata": {},
   "outputs": [
    {
     "name": "stdout",
     "output_type": "stream",
     "text": [
      "Xong\n"
     ]
    }
   ],
   "source": [
    "# Đường dẫn đến thư mục chứa ảnh\n",
    "directory = r'E:\\xu li anh so\\Lab1\\exercise'\n",
    "\n",
    "# Lặp qua từng ảnh trong thư mục\n",
    "for filename in os.listdir(directory):\n",
    "    if filename.endswith('.jpg') or filename.endswith('.jpeg') or filename.endswith('.png'):\n",
    "        img_path = os.path.join(directory, filename)\n",
    "        image = cv2.imread(img_path)\n",
    "        \n",
    "        # Áp dụng mean filter\n",
    "        filtered_image = cv2.blur(image, (5, 5))\n",
    "\n",
    "        # Lưu ảnh đã lọc\n",
    "        cv2.imwrite(os.path.join(directory, 'filtered_' + filename), filtered_image)\n",
    "\n",
    "print(\"Xong\")"
   ]
  },
  {
   "cell_type": "markdown",
   "id": "ef9cffd1",
   "metadata": {},
   "source": [
    "6 .Viết chương trình sử dụng mean filter cho các hình trong thư mục Exercise\n",
    "\n"
   ]
  },
  {
   "cell_type": "code",
   "execution_count": null,
   "id": "f1b55c22",
   "metadata": {},
   "outputs": [
    {
     "name": "stdout",
     "output_type": "stream",
     "text": [
      "Trying to load image: E:\\xu li anh so\\Lab1\\exercise\\baby.jpg\n",
      "Loaded image size: (231, 218, 3)\n",
      "Trying to load image: E:\\xu li anh so\\Lab1\\exercise\\balloons_noisy.png\n",
      "Loaded image size: (480, 640, 3)\n",
      "Trying to load image: E:\\xu li anh so\\Lab1\\exercise\\flower.jpg\n",
      "Loaded image size: (195, 259, 3)\n"
     ]
    }
   ],
   "source": [
    "def noise_reduction(image_paths):\n",
    "    os.makedirs('output', exist_ok=True)\n",
    "\n",
    "    for image_path in image_paths:\n",
    "        print(f'Dang thuc hien: {image_path}')\n",
    "        img = cv2.imread(image_path)\n",
    "\n",
    "        if img is None:\n",
    "            print(f'Xay ra loi: {image_path}.Hay kiem tra lai .')\n",
    "            continue\n",
    "\n",
    "        print(f'Dang tai: {img.shape}')\n",
    "\n",
    "        mean_filtered = cv2.blur(img, (5, 5))\n",
    "        cv2.imwrite(f'output/mean_{os.path.basename(image_path)}', mean_filtered)\n",
    "\n",
    "        gaussian_filtered = cv2.GaussianBlur(img, (5, 5), 0)\n",
    "        cv2.imwrite(f'output/gaussian_{os.path.basename(image_path)}', gaussian_filtered)\n",
    "\n",
    "        median_filtered = cv2.medianBlur(img, 5)\n",
    "        cv2.imwrite(f'output/median_{os.path.basename(image_path)}', median_filtered)\n",
    "\n",
    "image_paths = [r'E:\\xu li anh so\\Lab1\\exercise\\baby.jpg',r'E:\\xu li anh so\\Lab1\\exercise\\balloons_noisy.png', r'E:\\xu li anh so\\Lab1\\exercise\\flower.jpg']\n",
    "noise_reduction(image_paths)\n"
   ]
  },
  {
   "cell_type": "markdown",
   "id": "7ae3216a",
   "metadata": {},
   "source": [
    "7. Xác Định Biên\n"
   ]
  },
  {
   "cell_type": "code",
   "execution_count": 9,
   "id": "f63c1dba",
   "metadata": {},
   "outputs": [
    {
     "name": "stdout",
     "output_type": "stream",
     "text": [
      "✅ Đã xác định biên và lưu ảnh.\n"
     ]
    }
   ],
   "source": [
    "def edge_detection_all():\n",
    "    os.makedirs('output/edges', exist_ok=True)\n",
    "    image_paths = [r'E:\\xu li anh so\\Lab1\\exercise\\baby.jpg',r'E:\\xu li anh so\\Lab1\\exercise\\balloons_noisy.png', r'E:\\xu li anh so\\Lab1\\exercise\\flower.jpg']\n",
    "\n",
    "    for path in image_paths:\n",
    "        img = cv2.imread(path)\n",
    "        if img is None:\n",
    "            continue\n",
    "\n",
    "        base = os.path.basename(path)\n",
    "        denoised = cv2.medianBlur(img, 5)\n",
    "        gray = cv2.cvtColor(denoised, cv2.COLOR_BGR2GRAY)\n",
    "        edges = cv2.Canny(gray, 100, 200)\n",
    "\n",
    "        cv2.imwrite(f'output/edges/edges_{base}', edges)\n",
    "\n",
    "    print(\"✅ Đã xác định biên và lưu ảnh.\")\n",
    "\n",
    "edge_detection_all()\n"
   ]
  },
  {
   "cell_type": "markdown",
   "id": "52118dbb",
   "metadata": {},
   "source": [
    "8. Đổi màu RGB ngẫu nhiên"
   ]
  },
  {
   "cell_type": "code",
   "execution_count": 10,
   "id": "018fdab5",
   "metadata": {},
   "outputs": [
    {
     "name": "stdout",
     "output_type": "stream",
     "text": [
      "✅ Đã đổi màu RGB ngẫu nhiên và lưu ảnh.\n"
     ]
    }
   ],
   "source": [
    "import numpy as np\n",
    "import random\n",
    "\n",
    "def random_rgb_swap():\n",
    "    os.makedirs('output/rgb_random', exist_ok=True)\n",
    "    image_paths = [r'E:\\xu li anh so\\Lab1\\exercise\\baby.jpg',r'E:\\xu li anh so\\Lab1\\exercise\\balloons_noisy.png', r'E:\\xu li anh so\\Lab1\\exercise\\flower.jpg']\n",
    "\n",
    "    for path in image_paths:\n",
    "        img = cv2.imread(path)\n",
    "        if img is None:\n",
    "            continue\n",
    "\n",
    "        base = os.path.basename(path)\n",
    "        denoised = cv2.medianBlur(img, 5)\n",
    "        channels = cv2.split(denoised)\n",
    "        order = [0, 1, 2]\n",
    "        random.shuffle(order)\n",
    "        swapped = cv2.merge([channels[i] for i in order])\n",
    "\n",
    "        cv2.imwrite(f'output/rgb_random/rgb_{base}', swapped)\n",
    "\n",
    "    print(\"✅ Đã đổi màu RGB ngẫu nhiên và lưu ảnh.\")\n",
    "\n",
    "random_rgb_swap()\n"
   ]
  },
  {
   "cell_type": "markdown",
   "id": "16834415",
   "metadata": {},
   "source": [
    "9. Đổi màu HSV ngẫu nhiên\n"
   ]
  },
  {
   "cell_type": "code",
   "execution_count": 3,
   "id": "62d49fd8",
   "metadata": {},
   "outputs": [
    {
     "name": "stdout",
     "output_type": "stream",
     "text": [
      "Trying to load image: E:\\xu li anh so\\Lab1\\exercise\\baby.jpg\n",
      "Trying to load image: E:\\xu li anh so\\Lab1\\exercise\\balloons_noisy.png\n",
      "Trying to load image: E:\\xu li anh so\\Lab1\\exercise\\flower.jpg\n"
     ]
    }
   ],
   "source": [
    "def random_color_hsv(image_paths):\n",
    "    for image_path in image_paths:\n",
    "        print(f'Trying to load image: {image_path}')\n",
    "        img = cv2.imread(image_path)\n",
    "\n",
    "        if img is None:\n",
    "            print(f'Error loading image: {image_path}. Please check the path and file name.')\n",
    "            continue\n",
    "\n",
    "        hsv = cv2.cvtColor(img, cv2.COLOR_BGR2HSV)\n",
    "\n",
    "        for i in range(hsv.shape[0]):\n",
    "            for j in range(hsv.shape[1]):\n",
    "                hsv[i, j][0] = np.random.randint(0, 180)  # Đổi màu ngẫu nhiên\n",
    "\n",
    "        colored = cv2.cvtColor(hsv, cv2.COLOR_HSV2BGR)\n",
    "        cv2.imwrite(f'output/random_hsv_{os.path.basename(image_path)}', colored)\n",
    "\n",
    "# Đường dẫn đến hình ảnh\n",
    "image_paths = [\n",
    "    r'E:\\xu li anh so\\Lab1\\exercise\\baby.jpg',\n",
    "    r'E:\\xu li anh so\\Lab1\\exercise\\balloons_noisy.png',\n",
    "    r'E:\\xu li anh so\\Lab1\\exercise\\flower.jpg'\n",
    "]\n",
    "\n",
    "# Chạy hàm đổi màu HSV ngẫu nhiên\n",
    "random_color_hsv(image_paths)\n"
   ]
  }
 ],
 "metadata": {
  "kernelspec": {
   "display_name": "Python 3",
   "language": "python",
   "name": "python3"
  },
  "language_info": {
   "codemirror_mode": {
    "name": "ipython",
    "version": 3
   },
   "file_extension": ".py",
   "mimetype": "text/x-python",
   "name": "python",
   "nbconvert_exporter": "python",
   "pygments_lexer": "ipython3",
   "version": "3.9.7"
  }
 },
 "nbformat": 4,
 "nbformat_minor": 5
}
