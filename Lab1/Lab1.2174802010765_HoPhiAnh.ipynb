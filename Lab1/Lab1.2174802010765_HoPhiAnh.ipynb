{
 "cells": [
  {
   "cell_type": "code",
   "execution_count": 1,
   "id": "308e693e",
   "metadata": {},
   "outputs": [],
   "source": [
    "import cv2\n",
    "import numpy as np\n",
    "import os"
   ]
  },
  {
   "cell_type": "markdown",
   "id": "a373d0c9",
   "metadata": {},
   "source": [
    "1 - Nạp ảnh và lưu thành 3 ảnh với 3 màu khác nhau"
   ]
  },
  {
   "cell_type": "code",
   "execution_count": 2,
   "id": "7536c308",
   "metadata": {},
   "outputs": [
    {
     "data": {
      "text/plain": [
       "True"
      ]
     },
     "execution_count": 2,
     "metadata": {},
     "output_type": "execute_result"
    }
   ],
   "source": [
    "# Nạp ảnh\n",
    "image = cv2.imread('bird.png')\n",
    "\n",
    "# Lưu ảnh màu đỏ, xanh lá và xanh dương\n",
    "b, g, r = cv2.split(image)\n",
    "cv2.imwrite('red_image.png', cv2.merge([b * 0, g * 0, r]))\n",
    "cv2.imwrite('green_image.png', cv2.merge([b * 0, g, r * 0]))\n",
    "cv2.imwrite('blue_image.png', cv2.merge([b, g * 0, r * 0]))\n"
   ]
  },
  {
   "cell_type": "markdown",
   "id": "451e121b",
   "metadata": {},
   "source": [
    "2 - Hoán đối giá trị các màu"
   ]
  },
  {
   "cell_type": "markdown",
   "id": "96d054bf",
   "metadata": {},
   "source": []
  },
  {
   "cell_type": "code",
   "execution_count": 3,
   "id": "3b6950b5",
   "metadata": {},
   "outputs": [
    {
     "data": {
      "text/plain": [
       "True"
      ]
     },
     "execution_count": 3,
     "metadata": {},
     "output_type": "execute_result"
    }
   ],
   "source": [
    "swapped_image = cv2.cvtColor(image, cv2.COLOR_BGR2RGB)\n",
    "cv2.imwrite('swapped_image.png', swapped_image)"
   ]
  },
  {
   "cell_type": "markdown",
   "id": "24372cb1",
   "metadata": {},
   "source": [
    "3 - Chuyển thành hệ màu HSV và lưu 3 ảnh với 3 màu khác nhau"
   ]
  },
  {
   "cell_type": "code",
   "execution_count": 4,
   "id": "7edaa7b3",
   "metadata": {},
   "outputs": [
    {
     "data": {
      "text/plain": [
       "True"
      ]
     },
     "execution_count": 4,
     "metadata": {},
     "output_type": "execute_result"
    }
   ],
   "source": [
    "hsv_image = cv2.cvtColor(image, cv2.COLOR_BGR2HSV)\n",
    "h, s, v = cv2.split(hsv_image)\n",
    "cv2.imwrite('h_channel.png', h)\n",
    "cv2.imwrite('s_channel.png', s)\n",
    "cv2.imwrite('v_channel.png', v)"
   ]
  },
  {
   "cell_type": "markdown",
   "id": "5d8b7aa2",
   "metadata": {},
   "source": [
    "4 - Chuyển sang hệ màu HSV và thay đổi các giá trị kênh"
   ]
  },
  {
   "cell_type": "code",
   "execution_count": 5,
   "id": "898b7f32",
   "metadata": {},
   "outputs": [
    {
     "data": {
      "text/plain": [
       "True"
      ]
     },
     "execution_count": 5,
     "metadata": {},
     "output_type": "execute_result"
    }
   ],
   "source": [
    "h_new = (h / 3).astype(np.uint8)\n",
    "v_new = (v * 0.75).astype(np.uint8)\n",
    "new_hsv_image = cv2.merge([h_new, s, v_new])\n",
    "final_image = cv2.cvtColor(new_hsv_image, cv2.COLOR_HSV2BGR)\n",
    "cv2.imwrite('modified_image.png', final_image)\n"
   ]
  },
  {
   "cell_type": "markdown",
   "id": "8085a0d5",
   "metadata": {},
   "source": [
    "5 - Sử dụng mean filter cho các hình trong thư mục Exercise"
   ]
  },
  {
   "cell_type": "code",
   "execution_count": 10,
   "id": "9b53b538",
   "metadata": {},
   "outputs": [
    {
     "name": "stdout",
     "output_type": "stream",
     "text": [
      "Xong\n"
     ]
    }
   ],
   "source": [
    "# Đường dẫn đến thư mục chứa ảnh\n",
    "directory = r'E:\\xu li anh so\\Lab1\\exercise'\n",
    "\n",
    "# Lặp qua từng ảnh trong thư mục\n",
    "for filename in os.listdir(directory):\n",
    "    if filename.endswith('.jpg') or filename.endswith('.jpeg') or filename.endswith('.png'):\n",
    "        img_path = os.path.join(directory, filename)\n",
    "        image = cv2.imread(img_path)\n",
    "        \n",
    "        # Áp dụng mean filter\n",
    "        filtered_image = cv2.blur(image, (5, 5))\n",
    "\n",
    "        # Lưu ảnh đã lọc\n",
    "        cv2.imwrite(os.path.join(directory, 'filtered_' + filename), filtered_image)\n",
    "\n",
    "print(\"Xong\")"
   ]
  }
 ],
 "metadata": {
  "kernelspec": {
   "display_name": "Python 3",
   "language": "python",
   "name": "python3"
  },
  "language_info": {
   "codemirror_mode": {
    "name": "ipython",
    "version": 3
   },
   "file_extension": ".py",
   "mimetype": "text/x-python",
   "name": "python",
   "nbconvert_exporter": "python",
   "pygments_lexer": "ipython3",
   "version": "3.9.7"
  }
 },
 "nbformat": 4,
 "nbformat_minor": 5
}
